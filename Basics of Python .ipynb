{
 "cells": [
  {
   "cell_type": "markdown",
   "metadata": {},
   "source": [
    "# BASICS of PYTHON"
   ]
  },
  {
   "cell_type": "markdown",
   "metadata": {},
   "source": [
    "## THE CONTENT IS:\n",
    "*It took me 2 hours to create each tag and linking it with the index. Do appreciate it --__--*\n",
    "<ul>\n",
    "    <li><a href=\"#GeneralIntro\">General Info</a>\n",
    "    </li>\n",
    "    <li><a href=\"#PrintingSyntax\">Printing Syntax</a>\n",
    "        <ul>\n",
    "            <li><a href=\"#PS1\">Printing Multiple Strings on Same Line</a></li>\n",
    "            <li><a href=\"#PS2\">Printing Multiple Numbers on Same Line</a></li>\n",
    "            <li><a href=\"#PS3\">Leaving Blank Lines</a></li>\n",
    "            <li><a href=\"#PS4\">Printing sliced list</a></li>\n",
    "        </ul>\n",
    "    </li>\n",
    "    <li><a href=\"#Lists\">List</a>\n",
    "        <ul>\n",
    "        <li><a href=\"#MDI\">Methods of Declaring Lists</a></li>\n",
    "        <li><a href=\"#MICDL\">Making Custom Increment/Decrement</a></li>\n",
    "        <li><a href=\"#PCEL\">Printing Certain Elements in List (Slicing)</a></li>\n",
    "        <li><a href=\"#PEO\">Performing Element wise operation on 2 lists</a></li>\n",
    "        <li><a href=\"#2D\">2D List</a></li>\n",
    "        <li><a href=\"#NEL\">Adding new elements to list</a></li>\n",
    "        <li><a href=\"#DEL\">Deleting</a></li>\n",
    "        <li><a href=\"#LEN\">Lenth</a></li>\n",
    "        <li><a href=\"#NEWL\">Taking new element from user where each element is on new line</a></li>\n",
    "        <li><a href=\"#SPL\">Taking space seperated input from user</a></li>\n",
    "        <li><a href=\"#LIMP\">Other Important Functions</a></li>\n",
    "        </ul>\n",
    "    </li>\n",
    "    <li><a href=\"#DICTN\">Dictionaries</a>\n",
    "        <ul>\n",
    "          <li><a href=\"#NKV\">Adding New Values to existing keys</a></li>\n",
    "          <li><a href=\"#DICTLOOPS\">Loops</a></li>\n",
    "          <li><a href=\"#PRD\">Printing</a></li>\n",
    "        </ul>\n",
    "    </li>\n",
    "    <li><a href=\"#COND\">Conditional Statements</a>\n",
    "        <ul><li><a href=\"#COND\">If, else</a></li>\n",
    "            <li><a href=\"#AON\">AND/OR/NoT Equal</a></li>\n",
    "        </ul>\n",
    "    </li>\n",
    "    <li><a href=\"#SWP\">Swapping Without Temp Variable</a></li>\n",
    "    <li><a href=\"#LPS\">Looping</a>\n",
    "        <ul>\n",
    "            <li><a href=\"#FOR\">For Loop</a></li>\n",
    "            <li><a href=\"#CIDFOR\">Custom Increment/Decrement</a></li>\n",
    "            <li><a href=\"#WOV\">For loop without index variables</a></li>\n",
    "            <li><a href=\"#FPL\">For loop printing lists</a></li>\n",
    "            <li><a href=\"#NSTFL\">Nested for loops</a></li>\n",
    "        </ul>\n",
    "    </li>\n",
    "    <li><a href=\"#TIL\">Taking Input From User</a>\n",
    "        <ul>\n",
    "            <li><a href=\"#TISL\">Taking multiple Input on same Line</a></li>\n",
    "            <li><a href=\"#MTIP\">Taking Input in matrix form</a></li>\n",
    "            <li><a href=\"#ELI\">Taking element wise input with each element on new line</a></li>\n",
    "            <li><a href=\"#SLI\">Taking Space Seperated values</a></li>\n",
    "        </ul>\n",
    "    </li>\n",
    "</ul>"
   ]
  },
  {
   "cell_type": "markdown",
   "metadata": {},
   "source": [
    "<a id=\"GeneralIntro\"></a>\n",
    "# General Intro \n"
   ]
  },
  {
   "cell_type": "code",
   "execution_count": 2,
   "metadata": {
    "scrolled": false
   },
   "outputs": [
    {
     "name": "stdout",
     "output_type": "stream",
     "text": [
      "hello world\n"
     ]
    }
   ],
   "source": [
    "print(\"hello world\")"
   ]
  },
  {
   "cell_type": "code",
   "execution_count": 12,
   "metadata": {
    "scrolled": true
   },
   "outputs": [
    {
     "name": "stdout",
     "output_type": "stream",
     "text": [
      "1: 7\n",
      "2: 10\n",
      "3: 25\n",
      "4: 2.5\n",
      "5: 2\n",
      "6: 1\n"
     ]
    }
   ],
   "source": [
    "print(\"1:\", 5+2)\n",
    "print(\"2:\", 5*2)\n",
    "print(\"3:\", 5 ** 2) # USED FOR POWER \n",
    "print(\"4:\", 5/2) #returns decimal quotent \n",
    "print(\"5:\", 5 // 2) #returns lower bound quotent \n",
    "print(\"6:\", 5 % 2) # returns remainer "
   ]
  },
  {
   "cell_type": "markdown",
   "metadata": {},
   "source": [
    "# Printing Syntax \n",
    "<a id=\"PrintingSyntax\"></a>"
   ]
  },
  {
   "cell_type": "markdown",
   "metadata": {},
   "source": [
    "<a id=\"PS1\"></a>\n",
    "## Printing multiple str on same line "
   ]
  },
  {
   "cell_type": "code",
   "execution_count": 2,
   "metadata": {},
   "outputs": [
    {
     "name": "stdout",
     "output_type": "stream",
     "text": [
      "hey bat just \n",
      "fun it is for making multi line string\n",
      "----------OTHER METHOD---------\n",
      "hey bat just \n",
      "fun it is for making multi line string\n"
     ]
    }
   ],
   "source": [
    "#Print multiple strings on same line:\n",
    "str1 = 'hey'\n",
    "str2 = 'bat'\n",
    "str3 = '''just \n",
    "fun it is for making multi line string''' # Used to make a string of more than 1 line \n",
    "print(\"%s %s %s\" % (str1, str2, str3))\n",
    "#-----------OR----------\n",
    "print(\"----------OTHER METHOD---------\")\n",
    "print(str1, str2, str3)\n"
   ]
  },
  {
   "cell_type": "markdown",
   "metadata": {},
   "source": [
    "<a id=\"PS2\"></a>\n",
    "## Printing multiple numbers on same line (usually this situations will come in some loops)"
   ]
  },
  {
   "cell_type": "code",
   "execution_count": 52,
   "metadata": {},
   "outputs": [
    {
     "name": "stdout",
     "output_type": "stream",
     "text": [
      "0  1  2  3  4  5  6  7  8  9  "
     ]
    }
   ],
   "source": [
    "for i in range(0,10):\n",
    "    print(i, ' ', end='') #Notice that here end='' is used to print everything on same line"
   ]
  },
  {
   "cell_type": "markdown",
   "metadata": {},
   "source": [
    "<a id=\"PS3\"></a>\n",
    "## Leave multiple lines blank\n"
   ]
  },
  {
   "cell_type": "code",
   "execution_count": 14,
   "metadata": {
    "scrolled": true
   },
   "outputs": [
    {
     "name": "stdout",
     "output_type": "stream",
     "text": [
      "hey\n",
      "\n",
      "\n",
      "\n",
      "\n",
      "\n",
      "\n",
      "bat\n"
     ]
    }
   ],
   "source": [
    "print(str1)\n",
    "print('\\n' * 5)\n",
    "print(str2)"
   ]
  },
  {
   "cell_type": "markdown",
   "metadata": {},
   "source": [
    "<a id=\"PS4\"></a>\n",
    "## Print certain elements in a list:\n"
   ]
  },
  {
   "cell_type": "code",
   "execution_count": null,
   "metadata": {},
   "outputs": [],
   "source": [
    "a = [\"hey\", 'no', 1, 2, 'this', 'end', -10]\n",
    "print(a[0:3]) # 0th element included. 3rd element excluded"
   ]
  },
  {
   "cell_type": "markdown",
   "metadata": {},
   "source": [
    "**NoTE**: 0th element is included and 3rd element is excluded"
   ]
  },
  {
   "cell_type": "markdown",
   "metadata": {},
   "source": [
    "<a id=\"Lists\"></a>\n",
    "# Lists"
   ]
  },
  {
   "cell_type": "code",
   "execution_count": 4,
   "metadata": {
    "scrolled": true
   },
   "outputs": [
    {
     "name": "stdout",
     "output_type": "stream",
     "text": [
      "['one', 'box', 1, 2, 3, 'fun', 2.3]\n",
      "one\n"
     ]
    }
   ],
   "source": [
    "my_list = ['one', 'box', 1, 2, 3, 'fun', 2.3]\n",
    "print(my_list)\n",
    "short_list = my_list[0]\n",
    "print(short_list)"
   ]
  },
  {
   "cell_type": "markdown",
   "metadata": {},
   "source": [
    "<a id=\"MDI\"></a>\n",
    "## Methods of declaring a list: "
   ]
  },
  {
   "cell_type": "markdown",
   "metadata": {},
   "source": [
    "### Declaring blank list:"
   ]
  },
  {
   "cell_type": "code",
   "execution_count": 3,
   "metadata": {},
   "outputs": [],
   "source": [
    "a = []"
   ]
  },
  {
   "cell_type": "markdown",
   "metadata": {},
   "source": [
    "### 1.1) Declarig a 1D list with specific size and default elements:"
   ]
  },
  {
   "cell_type": "code",
   "execution_count": 1,
   "metadata": {},
   "outputs": [
    {
     "name": "stdout",
     "output_type": "stream",
     "text": [
      "[0, 0, 0, 0]\n"
     ]
    }
   ],
   "source": [
    "a = [0 for i in range(4)]\n",
    "print(a)"
   ]
  },
  {
   "cell_type": "markdown",
   "metadata": {},
   "source": [
    "### 1.2) Declarig a 2D list with specific size and default elements:"
   ]
  },
  {
   "cell_type": "code",
   "execution_count": 2,
   "metadata": {},
   "outputs": [
    {
     "name": "stdout",
     "output_type": "stream",
     "text": [
      "[[0, 0, 0], [0, 0, 0], [0, 0, 0], [0, 0, 0], [0, 0, 0]]\n"
     ]
    }
   ],
   "source": [
    "a = [[0 for i in range(3)] for j in range(5)] \n",
    "print(a)"
   ]
  },
  {
   "cell_type": "markdown",
   "metadata": {},
   "source": [
    "### 2)Declaring a blank list with uder input (space seperated) values "
   ]
  },
  {
   "cell_type": "code",
   "execution_count": 4,
   "metadata": {},
   "outputs": [
    {
     "name": "stdout",
     "output_type": "stream",
     "text": [
      "1 2 3 4 5\n",
      "[1, 2, 3, 4, 5]\n"
     ]
    }
   ],
   "source": [
    "a = []\n",
    "a = list(map(int, input().split()))\n",
    "print(a)"
   ]
  },
  {
   "cell_type": "markdown",
   "metadata": {},
   "source": [
    "<a id=\"MICDL\"></a>\n",
    "### Making custom increament\\decreament in a list:"
   ]
  },
  {
   "cell_type": "code",
   "execution_count": 23,
   "metadata": {},
   "outputs": [
    {
     "name": "stdout",
     "output_type": "stream",
     "text": [
      "0 9 8 7 6 5 4 3 2 1\n",
      "1\n",
      "\n",
      "3\n",
      "\n",
      "5\n",
      "\n",
      "7\n",
      "\n",
      "9\n",
      "\n"
     ]
    }
   ],
   "source": [
    "a = list(map(int, input().split()))\n",
    "for i in range(len(a)-1, -1, -1): #This means: for(i=len(a)-1; i>1 ; i--)\n",
    "    print(str(a[i])+\"\\n\")\n"
   ]
  },
  {
   "cell_type": "markdown",
   "metadata": {},
   "source": [
    "<a id=\"PCEL\"></a>\n",
    "### Print certain elements in a list:"
   ]
  },
  {
   "cell_type": "code",
   "execution_count": 5,
   "metadata": {},
   "outputs": [
    {
     "name": "stdout",
     "output_type": "stream",
     "text": [
      "['one', 'box', 1]\n"
     ]
    }
   ],
   "source": [
    "print(my_list[0:3]) # 0th element included. 3rd element excluded"
   ]
  },
  {
   "cell_type": "markdown",
   "metadata": {},
   "source": [
    "<a id=\"PEO\"></a>\n",
    "### Performing element wise operation on 2 lists:\n",
    "Eg: Multiplying/dividing/adding/subtracting two (2) seperate lists:\n"
   ]
  },
  {
   "cell_type": "code",
   "execution_count": 1,
   "metadata": {},
   "outputs": [
    {
     "name": "stdout",
     "output_type": "stream",
     "text": [
      "[1, 4, 9, 16, 25]\n"
     ]
    }
   ],
   "source": [
    "a = [1,2,3,4,5]\n",
    "b = [1,2,3,4,5]\n",
    "ab = [a[i]*b[i] for i in range(len(a))]\n",
    "print(ab)"
   ]
  },
  {
   "cell_type": "markdown",
   "metadata": {},
   "source": [
    "<a id=\"2D\"></a>\n",
    "### 2D list:\n"
   ]
  },
  {
   "cell_type": "code",
   "execution_count": 21,
   "metadata": {},
   "outputs": [
    {
     "name": "stdout",
     "output_type": "stream",
     "text": [
      "[[0, 1, 2], ['a', 'b', 'c']]\n",
      "1\n"
     ]
    }
   ],
   "source": [
    "_2d = [[0,1,2], \n",
    "       ['a', 'b', 'c']]\n",
    "print(_2d)\n",
    "print(_2d[0][1])"
   ]
  },
  {
   "cell_type": "markdown",
   "metadata": {},
   "source": [
    "<a id=\"NEL\"></a>\n",
    "### Adding new elents to Lists\n"
   ]
  },
  {
   "cell_type": "code",
   "execution_count": 31,
   "metadata": {},
   "outputs": [
    {
     "name": "stdout",
     "output_type": "stream",
     "text": [
      "last\n",
      "adding between 1&2\n",
      "[0, 1, 'adding between 1&2', 2, 3, 4, 5, 'last']\n"
     ]
    }
   ],
   "source": [
    "lst1 = [0, 1, 2, 3, 4, 5]\n",
    "lst1.append('last') # Adds new element at the last\n",
    "print(lst1[6])\n",
    "lst1.insert(2, 'adding between 1&2') #to add at any index. this function has 2 arguments, 1st is the index wher you want to enter. 2nd is the element you want to enter.\n",
    "print(lst1[2])\n",
    "print(lst1)"
   ]
  },
  {
   "cell_type": "markdown",
   "metadata": {},
   "source": [
    "<a id=\"DEL\"></a>\n",
    "### Deleting\n"
   ]
  },
  {
   "cell_type": "code",
   "execution_count": 37,
   "metadata": {},
   "outputs": [
    {
     "name": "stdout",
     "output_type": "stream",
     "text": [
      "[0, 1, 2, 3, 5, 6]\n"
     ]
    }
   ],
   "source": [
    "lst2 = [0, 1, 2, 3, 'last', 5, 6]\n",
    "lst2.remove('last') #Removes a particulat element from the list \n",
    "del lst1[3] #removing a particular element by index \n",
    "print(lst2)"
   ]
  },
  {
   "cell_type": "markdown",
   "metadata": {},
   "source": [
    "<a id=\"LEN\"></a>\n",
    "### Finding length:\n",
    "\n"
   ]
  },
  {
   "cell_type": "code",
   "execution_count": 39,
   "metadata": {},
   "outputs": [
    {
     "data": {
      "text/plain": [
       "6"
      ]
     },
     "execution_count": 39,
     "metadata": {},
     "output_type": "execute_result"
    }
   ],
   "source": [
    "len(lst2)"
   ]
  },
  {
   "cell_type": "markdown",
   "metadata": {},
   "source": [
    "<a id=\"NEWL\"></a>\n",
    "### Taking input in lists (Such that input elements are entered on new line while taking input from user)\n"
   ]
  },
  {
   "cell_type": "code",
   "execution_count": null,
   "metadata": {},
   "outputs": [],
   "source": [
    "a = [] #It initialises the array \n",
    "for _ in range(4):\n",
    "    a.append(int(input()))\n",
    "print(a)"
   ]
  },
  {
   "cell_type": "markdown",
   "metadata": {},
   "source": [
    "<a id=\"SPL\"></a>\n",
    "### Taking input in lists (Such that input elements are space seperated)\n"
   ]
  },
  {
   "cell_type": "code",
   "execution_count": 10,
   "metadata": {},
   "outputs": [
    {
     "name": "stdout",
     "output_type": "stream",
     "text": [
      "1 2 3 4 5\n",
      "[1, 2, 3, 4, 5]\n"
     ]
    }
   ],
   "source": [
    "lst2 = []\n",
    "lst2 = list(map(int, input().split()))\n",
    "print(lst2)"
   ]
  },
  {
   "cell_type": "markdown",
   "metadata": {},
   "source": [
    "<a id=\"LIMP\"></a>\n",
    "### Other imp functions\n"
   ]
  },
  {
   "cell_type": "code",
   "execution_count": 11,
   "metadata": {
    "scrolled": true
   },
   "outputs": [
    {
     "name": "stdout",
     "output_type": "stream",
     "text": [
      "5\n",
      "None\n",
      "None\n",
      "3\n",
      "15\n"
     ]
    }
   ],
   "source": [
    "print(max(lst2))\n",
    "print(lst2.sort())\n",
    "print(lst2.reverse())\n",
    "print(lst2.index(2))\n",
    "print(sum(lst2))"
   ]
  },
  {
   "cell_type": "markdown",
   "metadata": {},
   "source": [
    "<a id=\"DICTN\"></a>\n",
    "# Dictionaries !!! \n",
    "Watch this guy's videos to understand this concept: https://www.youtube.com/watch?v=daefaLgNkw0\n",
    "\n",
    "### BASICS:\n",
    "Dictionaries are basically arrays but have user defined keys instead of index. (Just like associative arrays in PHP). Each key can store values or lists:\n",
    "\n"
   ]
  },
  {
   "cell_type": "code",
   "execution_count": 6,
   "metadata": {},
   "outputs": [
    {
     "name": "stdout",
     "output_type": "stream",
     "text": [
      "{'name': 'kaushil', 'age': 12, 'subject': ['maths', 'science']}\n",
      "kaushil\n"
     ]
    }
   ],
   "source": [
    "a = {\n",
    "    'name' : 'kaushil',\n",
    "    'age': 12,\n",
    "    'subject' : ['maths', 'science']\n",
    "    }\n",
    "print(a)\n",
    "\n",
    "# Printng single key:\n",
    "print(a['name'])"
   ]
  },
  {
   "cell_type": "markdown",
   "metadata": {},
   "source": [
    "## To access keys that don't exist, if we use a['key_name'], it will generate an error. To prevent such error, we use 'get()' method. This will return 'None' if the key dosn't exist and return the value if it does."
   ]
  },
  {
   "cell_type": "code",
   "execution_count": 10,
   "metadata": {
    "scrolled": true
   },
   "outputs": [
    {
     "name": "stdout",
     "output_type": "stream",
     "text": [
      "Printing not existing key, Phone: None\n",
      "Printing existing key, Subject: ['maths', 'science']\n",
      "Printing \"Not Found\" for not existing keys: Not Found\n"
     ]
    }
   ],
   "source": [
    "print(\"Printing not existing key, Phone:\",a.get('phone'))\n",
    "print(\"Printing existing key, Subject:\",a.get('subject'))\n",
    "\n",
    "# We can also specify what to return if the key doesn't exist:\n",
    "print('Printing \"Not Found\" for not existing keys:', a.get('phone',\"Not Found\"))"
   ]
  },
  {
   "cell_type": "markdown",
   "metadata": {},
   "source": [
    "<a id=\"NKV\"></a>\n",
    "## Adding new values to existing keys\n"
   ]
  },
  {
   "cell_type": "code",
   "execution_count": 12,
   "metadata": {},
   "outputs": [
    {
     "name": "stdout",
     "output_type": "stream",
     "text": [
      "['maths', 'science', 'english', 'english']\n"
     ]
    }
   ],
   "source": [
    "a['subject'].append(\"english\")\n",
    "print(a.get('subject'))"
   ]
  },
  {
   "cell_type": "markdown",
   "metadata": {},
   "source": [
    "<a id=\"DICTLOOPS\"></a>\n",
    "## Loops in dictionaries/dictionary \n"
   ]
  },
  {
   "cell_type": "code",
   "execution_count": 19,
   "metadata": {},
   "outputs": [
    {
     "name": "stdout",
     "output_type": "stream",
     "text": [
      "The keys are:\n",
      "name\n",
      "age\n",
      "subject\n",
      "Key is: name | value is: kaushil\n",
      "Key is: age | value is: 12\n",
      "Key is: subject | value is: ['maths', 'science', 'english', 'english']\n"
     ]
    }
   ],
   "source": [
    "## Printing Keys:\n",
    "print(\"The keys are:\")\n",
    "for i in a:\n",
    "    print(i)\n",
    "    \n",
    "# Printing through keys and values:\n",
    "for key, val in a.items():\n",
    "    print(\"Key is:\", key, \"| value is:\", val)"
   ]
  },
  {
   "cell_type": "markdown",
   "metadata": {},
   "source": [
    "<a id=\"PRD\"></a>\n",
    "## Printing dictionary\n"
   ]
  },
  {
   "cell_type": "code",
   "execution_count": 17,
   "metadata": {
    "scrolled": true
   },
   "outputs": [
    {
     "name": "stdout",
     "output_type": "stream",
     "text": [
      "dict_keys(['name', 'age', 'subject'])\n",
      "dict_values(['kaushil', 12, ['maths', 'science', 'english', 'english']])\n",
      "dict_items([('name', 'kaushil'), ('age', 12), ('subject', ['maths', 'science', 'english', 'english'])])\n"
     ]
    },
    {
     "data": {
      "text/plain": [
       "3"
      ]
     },
     "execution_count": 17,
     "metadata": {},
     "output_type": "execute_result"
    }
   ],
   "source": [
    "# Printing keys\n",
    "print(a.keys())\n",
    "\n",
    "# Printing values\n",
    "print(a.values())\n",
    "\n",
    "# Printing keys and values\n",
    "print(a.items())\n",
    "\n",
    "# Printing lenth\n",
    "len(a) "
   ]
  },
  {
   "cell_type": "markdown",
   "metadata": {},
   "source": [
    "<a id=\"COND\"></a>\n",
    "# CONDITIONAL STATEMENTS (IF, ELSE, ELiF)\n"
   ]
  },
  {
   "cell_type": "code",
   "execution_count": 43,
   "metadata": {},
   "outputs": [
    {
     "name": "stdout",
     "output_type": "stream",
     "text": [
      "yyaayy ! x is 1\n"
     ]
    }
   ],
   "source": [
    "x = 1\n",
    "y = 2\n",
    "if x == 1 :\n",
    "    print('yyaayy ! x is 1')\n",
    "elif y == 2 :\n",
    "    print('yay ! y = 2')\n",
    "else :\n",
    "    print('nonw')"
   ]
  },
  {
   "cell_type": "markdown",
   "metadata": {},
   "source": [
    "<a id=\"AON\"></a>\n",
    "## && ||  != in conditional statements \n"
   ]
  },
  {
   "cell_type": "code",
   "execution_count": 75,
   "metadata": {
    "scrolled": true
   },
   "outputs": [
    {
     "name": "stdout",
     "output_type": "stream",
     "text": [
      "you are millennial\n",
      "you are not millenial\n",
      "The binary value is 1\n",
      "it is 1\n"
     ]
    }
   ],
   "source": [
    "age = 21\n",
    "height = 6\n",
    "\n",
    "# Using && \n",
    "if ((age > 16) and (age < 30)):\n",
    "    print('you are millennial')\n",
    "\n",
    "#Using OR (||)\n",
    "age = 90\n",
    "if ((age <16) or (age > 50)):\n",
    "    print(\"you are not millenial\")\n",
    "\n",
    "#Using 'not' \n",
    "binary = 1\n",
    "if not(binary == 0):\n",
    "    print('The binary value is 1')\n",
    "\n",
    "#using != \n",
    "if binary != 0:\n",
    "    print(\"it is 1\")\n",
    "    "
   ]
  },
  {
   "cell_type": "markdown",
   "metadata": {},
   "source": [
    "<a id=\"SWP\"></a>\n",
    "# Smart way of swapping/ swaping variables \n"
   ]
  },
  {
   "cell_type": "code",
   "execution_count": 15,
   "metadata": {},
   "outputs": [
    {
     "name": "stdout",
     "output_type": "stream",
     "text": [
      "15 10\n"
     ]
    }
   ],
   "source": [
    "a = 10\n",
    "b = 15\n",
    "a, b = b, a\n",
    "print(a,b)"
   ]
  },
  {
   "cell_type": "markdown",
   "metadata": {},
   "source": [
    "<a id=\"LPS\"></a>\n",
    "# Loops Looping Loopies Loooooooooooooooooooooooooooooooooooooops\n"
   ]
  },
  {
   "cell_type": "markdown",
   "metadata": {},
   "source": [
    "<a id=\"FOR\"></a>\n",
    "## For loops\n"
   ]
  },
  {
   "cell_type": "code",
   "execution_count": null,
   "metadata": {},
   "outputs": [],
   "source": [
    "for i in range(0,10):    #Equivalent to C: for(i = 0; i < 10; i++)\n",
    "    print(i, ' ', end='')"
   ]
  },
  {
   "cell_type": "markdown",
   "metadata": {},
   "source": [
    "<a id=\"CIDFOR\"></a>\n",
    "## Make for loops with custom incremnt/decrement \n"
   ]
  },
  {
   "cell_type": "code",
   "execution_count": 3,
   "metadata": {},
   "outputs": [
    {
     "name": "stdout",
     "output_type": "stream",
     "text": [
      "10\n",
      "9\n",
      "8\n",
      "7\n",
      "6\n"
     ]
    }
   ],
   "source": [
    "for i in range(10, 5, -1):  #The parameters in range denote (initial value, terminating value, decrement/increment)\n",
    "    print(i)                #The C++ version of this is: for(i = 10; i < 5; i--)\n",
    "                            # NOTE: The middle argument, i.e. the limit is never counted. That means, i > 5 and NOT i >=5"
   ]
  },
  {
   "cell_type": "markdown",
   "metadata": {},
   "source": [
    "<a id=\"WOV\"></a>\n",
    "## Making for loops without variables:\n"
   ]
  },
  {
   "cell_type": "code",
   "execution_count": 6,
   "metadata": {},
   "outputs": [
    {
     "name": "stdout",
     "output_type": "stream",
     "text": [
      "Printing Hello World 3 times\n",
      "Printing Hello World 3 times\n",
      "Printing Hello World 3 times\n"
     ]
    }
   ],
   "source": [
    "for _ in range(3):    # This \"_\" can be used in raplacement of i\n",
    "    print(\"Printing Hello World 3 times\")\n"
   ]
  },
  {
   "cell_type": "markdown",
   "metadata": {},
   "source": [
    "<a id=\"FPL\"></a>\n",
    "### For loops for printing lists\n"
   ]
  },
  {
   "cell_type": "code",
   "execution_count": 72,
   "metadata": {},
   "outputs": [
    {
     "name": "stdout",
     "output_type": "stream",
     "text": [
      "rat\n",
      "bat\n",
      "hat\n",
      "cat\n",
      "fat\n",
      "sat\n"
     ]
    }
   ],
   "source": [
    "lst_temp = ['rat', 'bat', 'hat', 'cat', 'fat', 'sat']\n",
    "for x in lst_temp:\n",
    "    print(x)"
   ]
  },
  {
   "cell_type": "code",
   "execution_count": 73,
   "metadata": {},
   "outputs": [
    {
     "name": "stdout",
     "output_type": "stream",
     "text": [
      "rat\n",
      "bat\n",
      "hat\n",
      "cat\n",
      "fat\n",
      "sat\n"
     ]
    }
   ],
   "source": [
    "for i in range(len(lst_temp)):\n",
    "    print(lst_temp[i])\n"
   ]
  },
  {
   "cell_type": "markdown",
   "metadata": {},
   "source": [
    "<a id=\"NSTFL\"></a>\n",
    "## Nester for loop [ONE OF MOST IMP CONCEPTS !!!!] \n"
   ]
  },
  {
   "cell_type": "code",
   "execution_count": 64,
   "metadata": {},
   "outputs": [
    {
     "name": "stdout",
     "output_type": "stream",
     "text": [
      "a  b  c  d  \n",
      "\n",
      "1  2  3  4  \n",
      "\n",
      "A  B  C  D  \n",
      "\n"
     ]
    }
   ],
   "source": [
    "lst = [['a', 'b', 'c', 'd'], [1, 2, 3, 4, 5], ['A', 'B', 'C', 'D']]\n",
    "for i in range(0,3):\n",
    "    for j in range(0,4):\n",
    "        print(lst[i][j], ' ', end=\"\")\n",
    "    print('\\n')"
   ]
  },
  {
   "cell_type": "code",
   "execution_count": 74,
   "metadata": {},
   "outputs": [
    {
     "name": "stdout",
     "output_type": "stream",
     "text": [
      "*\n",
      "\n",
      "**\n",
      "\n",
      "***\n",
      "\n",
      "****\n",
      "\n",
      "*****\n",
      "\n"
     ]
    }
   ],
   "source": [
    "for i in range(5):\n",
    "    for j in range(i+1):\n",
    "        print('*', end='') # Printing multiple 'print' statements on same line\n",
    "    print('\\n')"
   ]
  },
  {
   "cell_type": "markdown",
   "metadata": {},
   "source": [
    "<a id=\"TIL\"></a>\n",
    "# Taking input from user \n"
   ]
  },
  {
   "cell_type": "code",
   "execution_count": 77,
   "metadata": {},
   "outputs": [
    {
     "name": "stdout",
     "output_type": "stream",
     "text": [
      "enter name Kaushil\n",
      "Kaushil\n"
     ]
    }
   ],
   "source": [
    "name = input('enter name ')\n",
    "print(name)"
   ]
  },
  {
   "cell_type": "markdown",
   "metadata": {},
   "source": [
    "<a id=\"TISL\"></a>\n",
    "## Taking multiple inputs on same line:\n"
   ]
  },
  {
   "cell_type": "markdown",
   "metadata": {},
   "source": [
    "## MY METHOD:\n",
    "Here the various inputs must be seperrated by space"
   ]
  },
  {
   "cell_type": "code",
   "execution_count": 2,
   "metadata": {},
   "outputs": [
    {
     "name": "stdout",
     "output_type": "stream",
     "text": [
      "1 2 3\n",
      "1 , 2 , 3\n"
     ]
    }
   ],
   "source": [
    "a , b, c = map(int, input().split())\n",
    "print(a,\",\",b,\",\",c)"
   ]
  },
  {
   "cell_type": "markdown",
   "metadata": {},
   "source": [
    "#                                OR \n",
    "# Online other method\n",
    "Refer to the article here: https://www.geeksforgeeks.org/input-multiple-values-user-one-line-python/\n",
    "# The above ARTICLE IS GOLD !!!!"
   ]
  },
  {
   "cell_type": "code",
   "execution_count": 8,
   "metadata": {},
   "outputs": [
    {
     "name": "stdout",
     "output_type": "stream",
     "text": [
      "1 2\n",
      "1 2\n"
     ]
    }
   ],
   "source": [
    "x , y = [int(x)\n",
    "        for x in input().split()]\n",
    "print(x,y)"
   ]
  },
  {
   "cell_type": "markdown",
   "metadata": {},
   "source": [
    "<a id=\"MTIP\"></a>\n",
    "## Taking input of matrix of the form:\n"
   ]
  },
  {
   "cell_type": "markdown",
   "metadata": {
    "collapsed": true
   },
   "source": [
    "1 2 3<br>\n",
    "4 5 6<br>\n",
    "7 8 9<br>\n",
    "__*NOTE*__ THE ELEMENTS ON EACH ROW ARE SPACE SEPERATED"
   ]
  },
  {
   "cell_type": "code",
   "execution_count": 7,
   "metadata": {},
   "outputs": [
    {
     "name": "stdout",
     "output_type": "stream",
     "text": [
      "1 2 3\n",
      "4 5 6\n",
      "7 8 9\n",
      "[[1, 2, 3], [4, 5, 6], [7, 8, 9]]\n"
     ]
    }
   ],
   "source": [
    "matrix_smaple = [[(*map(int, input().split()))]for _ in range(3)]\n",
    "print(matrix_smaple)"
   ]
  },
  {
   "cell_type": "markdown",
   "metadata": {},
   "source": [
    "<a id=\"ELI\"></a>\n",
    "## To input an array/list with \"enter\" seperated input elements\n"
   ]
  },
  {
   "cell_type": "code",
   "execution_count": 2,
   "metadata": {},
   "outputs": [
    {
     "name": "stdout",
     "output_type": "stream",
     "text": [
      "1\n",
      "2\n",
      "3\n",
      "4\n",
      "[1, 2, 3, 4]\n"
     ]
    }
   ],
   "source": [
    "a = [] #It initialises the array \n",
    "for _ in range(4):\n",
    "    a.append(int(input()))\n",
    "print(a)"
   ]
  },
  {
   "cell_type": "markdown",
   "metadata": {},
   "source": [
    "<a id=\"SLI\"></a>\n",
    "## To input an array/list with space seperated input elements: \n"
   ]
  },
  {
   "cell_type": "code",
   "execution_count": 11,
   "metadata": {},
   "outputs": [
    {
     "name": "stdout",
     "output_type": "stream",
     "text": [
      "1 2 3 4 5\n",
      "[1, 2, 3, 4, 5]\n"
     ]
    }
   ],
   "source": [
    "a2 = []\n",
    "a2 = list(map(int, input().split()))\n",
    "print(a2)"
   ]
  }
 ],
 "metadata": {
  "kernelspec": {
   "display_name": "Python 3",
   "language": "python",
   "name": "python3"
  },
  "language_info": {
   "codemirror_mode": {
    "name": "ipython",
    "version": 3
   },
   "file_extension": ".py",
   "mimetype": "text/x-python",
   "name": "python",
   "nbconvert_exporter": "python",
   "pygments_lexer": "ipython3",
   "version": "3.6.4"
  }
 },
 "nbformat": 4,
 "nbformat_minor": 2
}
